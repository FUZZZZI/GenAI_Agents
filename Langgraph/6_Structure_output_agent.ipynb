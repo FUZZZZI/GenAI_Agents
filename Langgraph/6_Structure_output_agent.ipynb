{
 "cells": [
  {
   "cell_type": "markdown",
   "metadata": {},
   "source": [
    "**A Structured Output Agent in LangChain (or other LLM frameworks) refers to an agent that produces responses in a specific structured format, such as JSON, dictionaries, or other structured data types. These agents are particularly useful when you want to ensure that your responses conform to a defined schema, making it easier to parse, validate, and utilize in downstream applications.**\n",
    "\n",
    "##### Why Use a Structured Output Agent?\n",
    "\n",
    "- Controlled Responses: Ensures that the outputs follow a specific format, reducing ambiguity.\n",
    "- Data Validation: Useful when you want the model output to fit predefined structures, like for APIs or database entries.\n",
    "- Automation: Makes integration with systems like dashboards, ETL pipelines, or business workflows easier."
   ]
  },
  {
   "cell_type": "code",
   "execution_count": 1,
   "metadata": {},
   "outputs": [],
   "source": [
    "from langchain_community.tools.tavily_search import TavilySearchResults\n",
    "from langchain_core.tools import tool\n",
    "from pydantic import BaseModel, Field\n",
    "from langgraph.graph import MessagesState,StateGraph, END\n",
    "from langgraph.prebuilt import ToolNode\n",
    "from langchain_core.messages import HumanMessage"
   ]
  },
  {
   "cell_type": "code",
   "execution_count": 2,
   "metadata": {},
   "outputs": [],
   "source": [
    "from langchain_groq import ChatGroq\n",
    "llm=ChatGroq(model_name=\"Gemma2-9b-It\")"
   ]
  },
  {
   "cell_type": "code",
   "execution_count": 3,
   "metadata": {},
   "outputs": [],
   "source": [
    "tavily_tool = TavilySearchResults()"
   ]
  },
  {
   "cell_type": "code",
   "execution_count": 4,
   "metadata": {},
   "outputs": [],
   "source": [
    "@tool\n",
    "def get_city_details(prompt):\n",
    "    \"Should do a web search to find the required city details\"\n",
    "    response = tavily_tool.invoke(prompt)\n",
    "    return response"
   ]
  },
  {
   "cell_type": "code",
   "execution_count": 5,
   "metadata": {},
   "outputs": [],
   "source": [
    "tools = [get_city_details]"
   ]
  },
  {
   "cell_type": "code",
   "execution_count": 6,
   "metadata": {},
   "outputs": [],
   "source": [
    "model_with_tools = llm.bind_tools(tools)"
   ]
  },
  {
   "cell_type": "markdown",
   "metadata": {},
   "source": [
    "\n",
    "#### The BaseModel class is a core component of Pydantic, which is used extensively in Python applications for data validation, type checking, and parsing. It's particularly useful when working with APIs, web frameworks like FastAPI, and other scenarios where you need to enforce data structure and ensure data integrity.\n",
    "\n",
    "**Here's an overview of the BaseModel class, along with some examples to demonstrate how you can use it effectively.**\n",
    "\n",
    "####This code defines a Pydantic model called CityDetails using the BaseModel class. Let's break it down:\n",
    "\n",
    "- Explanation:\n",
    "- \n",
    "- Class Definition:\n",
    "\n",
    "- CityDetails inherits from BaseModel, making it a data validation model.\n",
    "- Fields with Type Annotations:\n",
    "\n",
    "- state_name: A string representing the state name of a city.\n",
    "- state_capital: A string representing the capital of that state.\n",
    "- country_name: A string representing the country name where the city is located.\n",
    "- country_capital: A string representing the capital of that country.\n",
    "\n",
    "**Field Descriptions:**\n",
    "\n",
    "- Each field uses Field() to provide a description that helps clarify what information each attribute represents.\n",
    "\n",
    "#### Purpose:\n",
    "\n",
    "- The model validates and structures data related to cities.\n",
    "- Useful for ensuring that any data related to cities has the correct structure before processing.\n",
    "- Helpful in APIs (like FastAPI) to generate self-documenting endpoints."
   ]
  },
  {
   "cell_type": "code",
   "execution_count": 7,
   "metadata": {},
   "outputs": [],
   "source": [
    "class CityDetails(BaseModel):\n",
    "    \"\"\"Respond to the user with this\"\"\"\n",
    "    state_name: str = Field(description=\"State name of the city\")\n",
    "    state_capital: str = Field(description=\"State capital of the city\")\n",
    "    country_name: str = Field(description=\"Country name of the city\")\n",
    "    country_capital: str = Field(description=\"Country capital of the city\")"
   ]
  },
  {
   "cell_type": "code",
   "execution_count": 9,
   "metadata": {},
   "outputs": [],
   "source": [
    "# Inherit 'messages' key from MessagesState, which is a list of chat messages\n",
    "class AgentState(MessagesState):\n",
    "    # Final structured response from the agent\n",
    "    final_response: CityDetails"
   ]
  },
  {
   "cell_type": "code",
   "execution_count": 10,
   "metadata": {},
   "outputs": [],
   "source": [
    "\n",
    "model_with_structured_output = llm.with_structured_output(CityDetails)"
   ]
  },
  {
   "cell_type": "code",
   "execution_count": 11,
   "metadata": {},
   "outputs": [],
   "source": [
    "def call_model(state: AgentState):\n",
    "    print(f\" this is 01 input from call model {state}\")\n",
    "    response = model_with_tools.invoke(state['messages'])\n",
    "    print(f\"this is 02 response from call model  {response}\")\n",
    "    # We return a list, because this will get added to the existing list\n",
    "    return {\"messages\": [response]}"
   ]
  },
  {
   "cell_type": "code",
   "execution_count": 12,
   "metadata": {},
   "outputs": [],
   "source": [
    "def should_continue(state: AgentState):\n",
    "    messages = state[\"messages\"]\n",
    "    last_message = messages[-1]\n",
    "    \n",
    "    # If there is no function call, then we respond to the user\n",
    "    if not last_message.tool_calls:\n",
    "        return \"respond\"\n",
    "    # Otherwise if there is, we continue with the tool\n",
    "    else:\n",
    "        return \"continue\""
   ]
  },
  {
   "cell_type": "code",
   "execution_count": 13,
   "metadata": {},
   "outputs": [],
   "source": [
    "def respond(state: AgentState):\n",
    "    print(f\"here is 03 state from respond {state}\")\n",
    "    response = model_with_structured_output.invoke([HumanMessage(content=state['messages'][-1].content)])\n",
    "    # We return the final answer\n",
    "    print(f\"this is 04 response from respond{response}\")\n",
    "    return {\"final_response\": response}"
   ]
  },
  {
   "cell_type": "code",
   "execution_count": 22,
   "metadata": {},
   "outputs": [],
   "source": [
    "# Define a new graph\n",
    "workflow = StateGraph(AgentState)\n",
    "\n",
    "# Define the two nodes we will cycle between\n",
    "workflow.add_node(\"llm\", call_model)\n",
    "workflow.add_node(\"tools\", ToolNode(tools))\n",
    "workflow.add_node(\"respond\", respond)\n",
    "\n",
    "\n",
    "# Set the entrypoint as `agent`\n",
    "# This means that this node is the first one called\n",
    "workflow.set_entry_point(\"llm\")\n",
    "\n",
    "# We now add a conditional edge\n",
    "workflow.add_conditional_edges(\n",
    "    \"llm\",\n",
    "    should_continue,\n",
    "    {\n",
    "        \"continue\": \"tools\",\n",
    "        \"respond\": \"respond\",\n",
    "    },\n",
    ")\n",
    "\n",
    "workflow.add_edge(\"tools\", \"llm\")\n",
    "workflow.add_edge(\"respond\", END)\n",
    "graph = workflow.compile()"
   ]
  },
  {
   "cell_type": "code",
   "execution_count": 24,
   "metadata": {},
   "outputs": [
    {
     "data": {
      "image/png": "[encoded data removed]",
      "text/plain": [
       "<IPython.core.display.Image object>"
      ]
     },
     "metadata": {},
     "output_type": "display_data"
    }
   ],
   "source": [
    "from IPython.display import Image, display\n",
    "\n",
    "try:\n",
    "    display(Image(graph.get_graph().draw_mermaid_png()))\n",
    "except Exception as e:\n",
    "    # This requires some extra dependencies and is optional\n",
    "    print(e)"
   ]
  },
  {
   "cell_type": "code",
   "execution_count": 25,
   "metadata": {},
   "outputs": [
    {
     "name": "stdout",
     "output_type": "stream",
     "text": [
      " this is 01 input from call model {'messages': [HumanMessage(content='Who built the Taj mahal and when?', additional_kwargs={}, response_metadata={}, id='6b546243-ba30-4603-95aa-1b4bcfd7c14d')]}\n",
      "this is 02 response from call model  content='' additional_kwargs={'tool_calls': [{'id': 'call_619t', 'function': {'arguments': '{\"prompt\":\"Who built the Taj Mahal and when?\"}', 'name': 'get_city_details'}, 'type': 'function'}]} response_metadata={'token_usage': {'completion_tokens': 89, 'prompt_tokens': 943, 'total_tokens': 1032, 'completion_time': 0.161818182, 'prompt_time': 0.044987373, 'queue_time': 0.02028658, 'total_time': 0.206805555}, 'model_name': 'Gemma2-9b-It', 'system_fingerprint': 'fp_10c08bf97d', 'finish_reason': 'tool_calls', 'logprobs': None} id='run-3aadcfa7-2f8d-4f86-855a-94002022958c-0' tool_calls=[{'name': 'get_city_details', 'args': {'prompt': 'Who built the Taj Mahal and when?'}, 'id': 'call_619t', 'type': 'tool_call'}] usage_metadata={'input_tokens': 943, 'output_tokens': 89, 'total_tokens': 1032}\n",
      " this is 01 input from call model {'messages': [HumanMessage(content='Who built the Taj mahal and when?', additional_kwargs={}, response_metadata={}, id='6b546243-ba30-4603-95aa-1b4bcfd7c14d'), AIMessage(content='', additional_kwargs={'tool_calls': [{'id': 'call_619t', 'function': {'arguments': '{\"prompt\":\"Who built the Taj Mahal and when?\"}', 'name': 'get_city_details'}, 'type': 'function'}]}, response_metadata={'token_usage': {'completion_tokens': 89, 'prompt_tokens': 943, 'total_tokens': 1032, 'completion_time': 0.161818182, 'prompt_time': 0.044987373, 'queue_time': 0.02028658, 'total_time': 0.206805555}, 'model_name': 'Gemma2-9b-It', 'system_fingerprint': 'fp_10c08bf97d', 'finish_reason': 'tool_calls', 'logprobs': None}, id='run-3aadcfa7-2f8d-4f86-855a-94002022958c-0', tool_calls=[{'name': 'get_city_details', 'args': {'prompt': 'Who built the Taj Mahal and when?'}, 'id': 'call_619t', 'type': 'tool_call'}], usage_metadata={'input_tokens': 943, 'output_tokens': 89, 'total_tokens': 1032}), ToolMessage(content='[{\"url\": \"https://asi.nic.in/pages/WorldHeritageAgra\", \"content\": \"Taj Mahal, the pinnacle of Mughal architecture, was built by the Mughal emperor Shah Jahan (1628-1658), grandson of Akbar the great, in the memory of his queen Arjumand Bano Begum, entitled \\'Mumtaz Mahal\\'. Mumtaz Mahal was a niece of empress Nur Jahan and granddaughter of Mirza Ghias Beg I\\'timad-ud-Daula, wazir of emperor Jehangir.\"}, {\"url\": \"https://www.historyhit.com/locations/taj-mahal/\", \"content\": \"The Taj Mahal is an iconic structure and a UNESCO World Heritage site in the city of Agra in India. History of the Taj Mahal. Built between 1631 and 1654, the construction of the Taj Mahal was ordered by the ruling emperor Shah Jahan as a mausoleum for his favourite wife, Empress Mumtaz Mahal.\"}, {\"url\": \"https://www.britannica.com/topic/Taj-Mahal\", \"content\": \"A number of measures have been taken to reduce the threat to the monument, among them the closing of some foundries and the installation of pollution-control equipment at others, the creation of a parkland buffer zone around the complex, and the banning of nearby vehicular traffic. The five principal elements of the complex—main gateway, garden, mosque, jawāb (literally “answer”; a building mirroring the mosque), and mausoleum (including its four minarets)—were conceived and designed as a unified entity according to the tenets of Mughal building practice, which allowed no subsequent addition or alteration. The Taj Mahal is a mausoleum complex that houses the tombs of Mumtaz Mahal (“Chosen One of the Palace”) and her husband, the Mughal emperor Shah Jahān (reigned 1628–58).\\\\n The Taj Mahal was built by the Mughal emperor Shah Jahān (reigned 1628–58) to immortalize his wife Mumtaz Mahal (“Chosen One of the Palace”), who died in childbirth in 1631, having been the emperor’s inseparable companion since their marriage in 1612. One of the most beautiful structural compositions in the world, the Taj Mahal is also one of the world’s most iconic monuments, visited by millions of tourists each year.\"}, {\"url\": \"https://www.history.com/topics/asian-history/taj-mahal\", \"content\": \"Taj Mahal\\\\nBy: History.com Editors\\\\nUpdated: June 5, 2023\\\\n| Original: June 13, 2011\\\\nTable of Contents\\\\nThe Taj Mahal is an enormous mausoleum complex commissioned in 1632 by the Mughal emperor Shah Jahan to house the remains of his beloved wife. Design and Construction of the Taj Mahal\\\\nNamed the Taj Mahal in honor of Mumtaz Mahal, the mausoleum was constructed of white marble inlaid with semi-precious stones (including jade, crystal, lapis lazuli, amethyst and turquoise) forming intricate designs in a technique known as pietra dura.\\\\n In accordance with the traditions of Islam, verses from the Quran were inscribed in calligraphy on the arched entrances to the mausoleum, in addition to numerous other sections of the complex.\\\\n The rest of the Taj Mahal complex included a main gateway of red sandstone and a square garden divided into quarters by long pools of water, as well as a red sandstone mosque and an identical building called a jawab (or “mirror”) directly across from the mosque. Shah Jahan lived out the last years of his life under house arrest in a tower of the Red Fort at Agra, with a view of the majestic resting place he had constructed for his wife; when he died in 1666, he was buried next to her.\\\\n\"}, {\"url\": \"https://smarthistory.org/the-taj-mahal/\", \"content\": \"Shah Jahan built the Taj Mahal in Agra, where he took the throne in 1628. First conquered by Muslim invaders in the eleventh century, the city had been transformed into a flourishing area of trade during Shah Jahan\\'s rule. Situated on the banks of the Yamuna River allowed for easy access to water, and Agra soon earned the reputation as a\"}]', name='get_city_details', id='58c692b4-7426-4eb8-9bac-d6bd3ca9ecda', tool_call_id='call_619t')]}\n",
      "this is 02 response from call model  content='' additional_kwargs={'tool_calls': [{'id': 'call_c9k7', 'function': {'arguments': '{\"prompt\":\"Who built the Taj Mahal and when?\"}', 'name': 'get_city_details'}, 'type': 'function'}]} response_metadata={'token_usage': {'completion_tokens': 50, 'prompt_tokens': 1932, 'total_tokens': 1982, 'completion_time': 0.090909091, 'prompt_time': 0.080571171, 'queue_time': 0.022919047999999997, 'total_time': 0.171480262}, 'model_name': 'Gemma2-9b-It', 'system_fingerprint': 'fp_10c08bf97d', 'finish_reason': 'tool_calls', 'logprobs': None} id='run-82766991-229e-4df0-b51e-65303cf4a98a-0' tool_calls=[{'name': 'get_city_details', 'args': {'prompt': 'Who built the Taj Mahal and when?'}, 'id': 'call_c9k7', 'type': 'tool_call'}] usage_metadata={'input_tokens': 1932, 'output_tokens': 50, 'total_tokens': 1982}\n",
      " this is 01 input from call model {'messages': [HumanMessage(content='Who built the Taj mahal and when?', additional_kwargs={}, response_metadata={}, id='6b546243-ba30-4603-95aa-1b4bcfd7c14d'), AIMessage(content='', additional_kwargs={'tool_calls': [{'id': 'call_619t', 'function': {'arguments': '{\"prompt\":\"Who built the Taj Mahal and when?\"}', 'name': 'get_city_details'}, 'type': 'function'}]}, response_metadata={'token_usage': {'completion_tokens': 89, 'prompt_tokens': 943, 'total_tokens': 1032, 'completion_time': 0.161818182, 'prompt_time': 0.044987373, 'queue_time': 0.02028658, 'total_time': 0.206805555}, 'model_name': 'Gemma2-9b-It', 'system_fingerprint': 'fp_10c08bf97d', 'finish_reason': 'tool_calls', 'logprobs': None}, id='run-3aadcfa7-2f8d-4f86-855a-94002022958c-0', tool_calls=[{'name': 'get_city_details', 'args': {'prompt': 'Who built the Taj Mahal and when?'}, 'id': 'call_619t', 'type': 'tool_call'}], usage_metadata={'input_tokens': 943, 'output_tokens': 89, 'total_tokens': 1032}), ToolMessage(content='[{\"url\": \"https://asi.nic.in/pages/WorldHeritageAgra\", \"content\": \"Taj Mahal, the pinnacle of Mughal architecture, was built by the Mughal emperor Shah Jahan (1628-1658), grandson of Akbar the great, in the memory of his queen Arjumand Bano Begum, entitled \\'Mumtaz Mahal\\'. Mumtaz Mahal was a niece of empress Nur Jahan and granddaughter of Mirza Ghias Beg I\\'timad-ud-Daula, wazir of emperor Jehangir.\"}, {\"url\": \"https://www.historyhit.com/locations/taj-mahal/\", \"content\": \"The Taj Mahal is an iconic structure and a UNESCO World Heritage site in the city of Agra in India. History of the Taj Mahal. Built between 1631 and 1654, the construction of the Taj Mahal was ordered by the ruling emperor Shah Jahan as a mausoleum for his favourite wife, Empress Mumtaz Mahal.\"}, {\"url\": \"https://www.britannica.com/topic/Taj-Mahal\", \"content\": \"A number of measures have been taken to reduce the threat to the monument, among them the closing of some foundries and the installation of pollution-control equipment at others, the creation of a parkland buffer zone around the complex, and the banning of nearby vehicular traffic. The five principal elements of the complex—main gateway, garden, mosque, jawāb (literally “answer”; a building mirroring the mosque), and mausoleum (including its four minarets)—were conceived and designed as a unified entity according to the tenets of Mughal building practice, which allowed no subsequent addition or alteration. The Taj Mahal is a mausoleum complex that houses the tombs of Mumtaz Mahal (“Chosen One of the Palace”) and her husband, the Mughal emperor Shah Jahān (reigned 1628–58).\\\\n The Taj Mahal was built by the Mughal emperor Shah Jahān (reigned 1628–58) to immortalize his wife Mumtaz Mahal (“Chosen One of the Palace”), who died in childbirth in 1631, having been the emperor’s inseparable companion since their marriage in 1612. One of the most beautiful structural compositions in the world, the Taj Mahal is also one of the world’s most iconic monuments, visited by millions of tourists each year.\"}, {\"url\": \"https://www.history.com/topics/asian-history/taj-mahal\", \"content\": \"Taj Mahal\\\\nBy: History.com Editors\\\\nUpdated: June 5, 2023\\\\n| Original: June 13, 2011\\\\nTable of Contents\\\\nThe Taj Mahal is an enormous mausoleum complex commissioned in 1632 by the Mughal emperor Shah Jahan to house the remains of his beloved wife. Design and Construction of the Taj Mahal\\\\nNamed the Taj Mahal in honor of Mumtaz Mahal, the mausoleum was constructed of white marble inlaid with semi-precious stones (including jade, crystal, lapis lazuli, amethyst and turquoise) forming intricate designs in a technique known as pietra dura.\\\\n In accordance with the traditions of Islam, verses from the Quran were inscribed in calligraphy on the arched entrances to the mausoleum, in addition to numerous other sections of the complex.\\\\n The rest of the Taj Mahal complex included a main gateway of red sandstone and a square garden divided into quarters by long pools of water, as well as a red sandstone mosque and an identical building called a jawab (or “mirror”) directly across from the mosque. Shah Jahan lived out the last years of his life under house arrest in a tower of the Red Fort at Agra, with a view of the majestic resting place he had constructed for his wife; when he died in 1666, he was buried next to her.\\\\n\"}, {\"url\": \"https://smarthistory.org/the-taj-mahal/\", \"content\": \"Shah Jahan built the Taj Mahal in Agra, where he took the throne in 1628. First conquered by Muslim invaders in the eleventh century, the city had been transformed into a flourishing area of trade during Shah Jahan\\'s rule. Situated on the banks of the Yamuna River allowed for easy access to water, and Agra soon earned the reputation as a\"}]', name='get_city_details', id='58c692b4-7426-4eb8-9bac-d6bd3ca9ecda', tool_call_id='call_619t'), AIMessage(content='', additional_kwargs={'tool_calls': [{'id': 'call_c9k7', 'function': {'arguments': '{\"prompt\":\"Who built the Taj Mahal and when?\"}', 'name': 'get_city_details'}, 'type': 'function'}]}, response_metadata={'token_usage': {'completion_tokens': 50, 'prompt_tokens': 1932, 'total_tokens': 1982, 'completion_time': 0.090909091, 'prompt_time': 0.080571171, 'queue_time': 0.022919047999999997, 'total_time': 0.171480262}, 'model_name': 'Gemma2-9b-It', 'system_fingerprint': 'fp_10c08bf97d', 'finish_reason': 'tool_calls', 'logprobs': None}, id='run-82766991-229e-4df0-b51e-65303cf4a98a-0', tool_calls=[{'name': 'get_city_details', 'args': {'prompt': 'Who built the Taj Mahal and when?'}, 'id': 'call_c9k7', 'type': 'tool_call'}], usage_metadata={'input_tokens': 1932, 'output_tokens': 50, 'total_tokens': 1982}), ToolMessage(content='[{\"url\": \"https://www.thoughtco.com/what-is-the-taj-mahal-195419\", \"content\": \"The Taj Mahal was built by the Mughal Emperor Shah Jahan (r. 1628 - 1658) in honor of the Persian princess Mumtaz Mahal, his beloved third wife. She died in 1632 while bearing their fourteenth child, and Shah Jahan never really recovered from the loss. He poured his energy into designing and building the most beautiful tomb ever known for her\"}, {\"url\": \"https://www.historyhit.com/locations/taj-mahal/\", \"content\": \"The Taj Mahal is an iconic structure and a UNESCO World Heritage site in the city of Agra in India. History of the Taj Mahal. Built between 1631 and 1654, the construction of the Taj Mahal was ordered by the ruling emperor Shah Jahan as a mausoleum for his favourite wife, Empress Mumtaz Mahal.\"}, {\"url\": \"https://www.britannica.com/topic/Taj-Mahal\", \"content\": \"A number of measures have been taken to reduce the threat to the monument, among them the closing of some foundries and the installation of pollution-control equipment at others, the creation of a parkland buffer zone around the complex, and the banning of nearby vehicular traffic. The five principal elements of the complex—main gateway, garden, mosque, jawāb (literally “answer”; a building mirroring the mosque), and mausoleum (including its four minarets)—were conceived and designed as a unified entity according to the tenets of Mughal building practice, which allowed no subsequent addition or alteration. The Taj Mahal is a mausoleum complex that houses the tombs of Mumtaz Mahal (“Chosen One of the Palace”) and her husband, the Mughal emperor Shah Jahān (reigned 1628–58).\\\\n The Taj Mahal was built by the Mughal emperor Shah Jahān (reigned 1628–58) to immortalize his wife Mumtaz Mahal (“Chosen One of the Palace”), who died in childbirth in 1631, having been the emperor’s inseparable companion since their marriage in 1612. One of the most beautiful structural compositions in the world, the Taj Mahal is also one of the world’s most iconic monuments, visited by millions of tourists each year.\"}, {\"url\": \"https://www.history.com/topics/asian-history/taj-mahal\", \"content\": \"Taj Mahal\\\\nBy: History.com Editors\\\\nUpdated: June 5, 2023\\\\n| Original: June 13, 2011\\\\nTable of Contents\\\\nThe Taj Mahal is an enormous mausoleum complex commissioned in 1632 by the Mughal emperor Shah Jahan to house the remains of his beloved wife. Design and Construction of the Taj Mahal\\\\nNamed the Taj Mahal in honor of Mumtaz Mahal, the mausoleum was constructed of white marble inlaid with semi-precious stones (including jade, crystal, lapis lazuli, amethyst and turquoise) forming intricate designs in a technique known as pietra dura.\\\\n In accordance with the traditions of Islam, verses from the Quran were inscribed in calligraphy on the arched entrances to the mausoleum, in addition to numerous other sections of the complex.\\\\n The rest of the Taj Mahal complex included a main gateway of red sandstone and a square garden divided into quarters by long pools of water, as well as a red sandstone mosque and an identical building called a jawab (or “mirror”) directly across from the mosque. Shah Jahan lived out the last years of his life under house arrest in a tower of the Red Fort at Agra, with a view of the majestic resting place he had constructed for his wife; when he died in 1666, he was buried next to her.\\\\n\"}, {\"url\": \"https://www.thoughtco.com/the-taj-mahal-1434536\", \"content\": \"The Taj Mahal is a breathtaking white-marble mausoleum commissioned by Mughal emperor Shah Jahan for his beloved wife, Mumtaz Mahal. Located on the southern bank of the Yamuna River near Agra, India, the Taj Mahal took 22 years to build and finally reached completion in 1653.\"}]', name='get_city_details', id='b136ba47-04ed-4caa-ab78-c7907b09bba8', tool_call_id='call_c9k7')]}\n",
      "this is 02 response from call model  content='The Taj Mahal was built by the Mughal Emperor Shah Jahan in honor of his wife Mumtaz Mahal. \\n' additional_kwargs={} response_metadata={'token_usage': {'completion_tokens': 25, 'prompt_tokens': 2921, 'total_tokens': 2946, 'completion_time': 0.045454545, 'prompt_time': 0.126615571, 'queue_time': 0.024429954000000004, 'total_time': 0.172070116}, 'model_name': 'Gemma2-9b-It', 'system_fingerprint': 'fp_10c08bf97d', 'finish_reason': 'stop', 'logprobs': None} id='run-bdf36dc8-276f-45f0-91ff-55e8f5098d82-0' usage_metadata={'input_tokens': 2921, 'output_tokens': 25, 'total_tokens': 2946}\n",
      "here is 03 state from respond {'messages': [HumanMessage(content='Who built the Taj mahal and when?', additional_kwargs={}, response_metadata={}, id='6b546243-ba30-4603-95aa-1b4bcfd7c14d'), AIMessage(content='', additional_kwargs={'tool_calls': [{'id': 'call_619t', 'function': {'arguments': '{\"prompt\":\"Who built the Taj Mahal and when?\"}', 'name': 'get_city_details'}, 'type': 'function'}]}, response_metadata={'token_usage': {'completion_tokens': 89, 'prompt_tokens': 943, 'total_tokens': 1032, 'completion_time': 0.161818182, 'prompt_time': 0.044987373, 'queue_time': 0.02028658, 'total_time': 0.206805555}, 'model_name': 'Gemma2-9b-It', 'system_fingerprint': 'fp_10c08bf97d', 'finish_reason': 'tool_calls', 'logprobs': None}, id='run-3aadcfa7-2f8d-4f86-855a-94002022958c-0', tool_calls=[{'name': 'get_city_details', 'args': {'prompt': 'Who built the Taj Mahal and when?'}, 'id': 'call_619t', 'type': 'tool_call'}], usage_metadata={'input_tokens': 943, 'output_tokens': 89, 'total_tokens': 1032}), ToolMessage(content='[{\"url\": \"https://asi.nic.in/pages/WorldHeritageAgra\", \"content\": \"Taj Mahal, the pinnacle of Mughal architecture, was built by the Mughal emperor Shah Jahan (1628-1658), grandson of Akbar the great, in the memory of his queen Arjumand Bano Begum, entitled \\'Mumtaz Mahal\\'. Mumtaz Mahal was a niece of empress Nur Jahan and granddaughter of Mirza Ghias Beg I\\'timad-ud-Daula, wazir of emperor Jehangir.\"}, {\"url\": \"https://www.historyhit.com/locations/taj-mahal/\", \"content\": \"The Taj Mahal is an iconic structure and a UNESCO World Heritage site in the city of Agra in India. History of the Taj Mahal. Built between 1631 and 1654, the construction of the Taj Mahal was ordered by the ruling emperor Shah Jahan as a mausoleum for his favourite wife, Empress Mumtaz Mahal.\"}, {\"url\": \"https://www.britannica.com/topic/Taj-Mahal\", \"content\": \"A number of measures have been taken to reduce the threat to the monument, among them the closing of some foundries and the installation of pollution-control equipment at others, the creation of a parkland buffer zone around the complex, and the banning of nearby vehicular traffic. The five principal elements of the complex—main gateway, garden, mosque, jawāb (literally “answer”; a building mirroring the mosque), and mausoleum (including its four minarets)—were conceived and designed as a unified entity according to the tenets of Mughal building practice, which allowed no subsequent addition or alteration. The Taj Mahal is a mausoleum complex that houses the tombs of Mumtaz Mahal (“Chosen One of the Palace”) and her husband, the Mughal emperor Shah Jahān (reigned 1628–58).\\\\n The Taj Mahal was built by the Mughal emperor Shah Jahān (reigned 1628–58) to immortalize his wife Mumtaz Mahal (“Chosen One of the Palace”), who died in childbirth in 1631, having been the emperor’s inseparable companion since their marriage in 1612. One of the most beautiful structural compositions in the world, the Taj Mahal is also one of the world’s most iconic monuments, visited by millions of tourists each year.\"}, {\"url\": \"https://www.history.com/topics/asian-history/taj-mahal\", \"content\": \"Taj Mahal\\\\nBy: History.com Editors\\\\nUpdated: June 5, 2023\\\\n| Original: June 13, 2011\\\\nTable of Contents\\\\nThe Taj Mahal is an enormous mausoleum complex commissioned in 1632 by the Mughal emperor Shah Jahan to house the remains of his beloved wife. Design and Construction of the Taj Mahal\\\\nNamed the Taj Mahal in honor of Mumtaz Mahal, the mausoleum was constructed of white marble inlaid with semi-precious stones (including jade, crystal, lapis lazuli, amethyst and turquoise) forming intricate designs in a technique known as pietra dura.\\\\n In accordance with the traditions of Islam, verses from the Quran were inscribed in calligraphy on the arched entrances to the mausoleum, in addition to numerous other sections of the complex.\\\\n The rest of the Taj Mahal complex included a main gateway of red sandstone and a square garden divided into quarters by long pools of water, as well as a red sandstone mosque and an identical building called a jawab (or “mirror”) directly across from the mosque. Shah Jahan lived out the last years of his life under house arrest in a tower of the Red Fort at Agra, with a view of the majestic resting place he had constructed for his wife; when he died in 1666, he was buried next to her.\\\\n\"}, {\"url\": \"https://smarthistory.org/the-taj-mahal/\", \"content\": \"Shah Jahan built the Taj Mahal in Agra, where he took the throne in 1628. First conquered by Muslim invaders in the eleventh century, the city had been transformed into a flourishing area of trade during Shah Jahan\\'s rule. Situated on the banks of the Yamuna River allowed for easy access to water, and Agra soon earned the reputation as a\"}]', name='get_city_details', id='58c692b4-7426-4eb8-9bac-d6bd3ca9ecda', tool_call_id='call_619t'), AIMessage(content='', additional_kwargs={'tool_calls': [{'id': 'call_c9k7', 'function': {'arguments': '{\"prompt\":\"Who built the Taj Mahal and when?\"}', 'name': 'get_city_details'}, 'type': 'function'}]}, response_metadata={'token_usage': {'completion_tokens': 50, 'prompt_tokens': 1932, 'total_tokens': 1982, 'completion_time': 0.090909091, 'prompt_time': 0.080571171, 'queue_time': 0.022919047999999997, 'total_time': 0.171480262}, 'model_name': 'Gemma2-9b-It', 'system_fingerprint': 'fp_10c08bf97d', 'finish_reason': 'tool_calls', 'logprobs': None}, id='run-82766991-229e-4df0-b51e-65303cf4a98a-0', tool_calls=[{'name': 'get_city_details', 'args': {'prompt': 'Who built the Taj Mahal and when?'}, 'id': 'call_c9k7', 'type': 'tool_call'}], usage_metadata={'input_tokens': 1932, 'output_tokens': 50, 'total_tokens': 1982}), ToolMessage(content='[{\"url\": \"https://www.thoughtco.com/what-is-the-taj-mahal-195419\", \"content\": \"The Taj Mahal was built by the Mughal Emperor Shah Jahan (r. 1628 - 1658) in honor of the Persian princess Mumtaz Mahal, his beloved third wife. She died in 1632 while bearing their fourteenth child, and Shah Jahan never really recovered from the loss. He poured his energy into designing and building the most beautiful tomb ever known for her\"}, {\"url\": \"https://www.historyhit.com/locations/taj-mahal/\", \"content\": \"The Taj Mahal is an iconic structure and a UNESCO World Heritage site in the city of Agra in India. History of the Taj Mahal. Built between 1631 and 1654, the construction of the Taj Mahal was ordered by the ruling emperor Shah Jahan as a mausoleum for his favourite wife, Empress Mumtaz Mahal.\"}, {\"url\": \"https://www.britannica.com/topic/Taj-Mahal\", \"content\": \"A number of measures have been taken to reduce the threat to the monument, among them the closing of some foundries and the installation of pollution-control equipment at others, the creation of a parkland buffer zone around the complex, and the banning of nearby vehicular traffic. The five principal elements of the complex—main gateway, garden, mosque, jawāb (literally “answer”; a building mirroring the mosque), and mausoleum (including its four minarets)—were conceived and designed as a unified entity according to the tenets of Mughal building practice, which allowed no subsequent addition or alteration. The Taj Mahal is a mausoleum complex that houses the tombs of Mumtaz Mahal (“Chosen One of the Palace”) and her husband, the Mughal emperor Shah Jahān (reigned 1628–58).\\\\n The Taj Mahal was built by the Mughal emperor Shah Jahān (reigned 1628–58) to immortalize his wife Mumtaz Mahal (“Chosen One of the Palace”), who died in childbirth in 1631, having been the emperor’s inseparable companion since their marriage in 1612. One of the most beautiful structural compositions in the world, the Taj Mahal is also one of the world’s most iconic monuments, visited by millions of tourists each year.\"}, {\"url\": \"https://www.history.com/topics/asian-history/taj-mahal\", \"content\": \"Taj Mahal\\\\nBy: History.com Editors\\\\nUpdated: June 5, 2023\\\\n| Original: June 13, 2011\\\\nTable of Contents\\\\nThe Taj Mahal is an enormous mausoleum complex commissioned in 1632 by the Mughal emperor Shah Jahan to house the remains of his beloved wife. Design and Construction of the Taj Mahal\\\\nNamed the Taj Mahal in honor of Mumtaz Mahal, the mausoleum was constructed of white marble inlaid with semi-precious stones (including jade, crystal, lapis lazuli, amethyst and turquoise) forming intricate designs in a technique known as pietra dura.\\\\n In accordance with the traditions of Islam, verses from the Quran were inscribed in calligraphy on the arched entrances to the mausoleum, in addition to numerous other sections of the complex.\\\\n The rest of the Taj Mahal complex included a main gateway of red sandstone and a square garden divided into quarters by long pools of water, as well as a red sandstone mosque and an identical building called a jawab (or “mirror”) directly across from the mosque. Shah Jahan lived out the last years of his life under house arrest in a tower of the Red Fort at Agra, with a view of the majestic resting place he had constructed for his wife; when he died in 1666, he was buried next to her.\\\\n\"}, {\"url\": \"https://www.thoughtco.com/the-taj-mahal-1434536\", \"content\": \"The Taj Mahal is a breathtaking white-marble mausoleum commissioned by Mughal emperor Shah Jahan for his beloved wife, Mumtaz Mahal. Located on the southern bank of the Yamuna River near Agra, India, the Taj Mahal took 22 years to build and finally reached completion in 1653.\"}]', name='get_city_details', id='b136ba47-04ed-4caa-ab78-c7907b09bba8', tool_call_id='call_c9k7'), AIMessage(content='The Taj Mahal was built by the Mughal Emperor Shah Jahan in honor of his wife Mumtaz Mahal. \\n', additional_kwargs={}, response_metadata={'token_usage': {'completion_tokens': 25, 'prompt_tokens': 2921, 'total_tokens': 2946, 'completion_time': 0.045454545, 'prompt_time': 0.126615571, 'queue_time': 0.024429954000000004, 'total_time': 0.172070116}, 'model_name': 'Gemma2-9b-It', 'system_fingerprint': 'fp_10c08bf97d', 'finish_reason': 'stop', 'logprobs': None}, id='run-bdf36dc8-276f-45f0-91ff-55e8f5098d82-0', usage_metadata={'input_tokens': 2921, 'output_tokens': 25, 'total_tokens': 2946})]}\n",
      "this is 04 response from respondstate_name='Uttar Pradesh' state_capital='Agra' country_name='India' country_capital='New Delhi'\n"
     ]
    }
   ],
   "source": [
    "ans1 = graph.invoke(input={\"messages\":[\"Who built the Taj mahal and when?\"]})['final_response']"
   ]
  },
  {
   "cell_type": "code",
   "execution_count": 26,
   "metadata": {},
   "outputs": [
    {
     "data": {
      "text/plain": [
       "CityDetails(state_name='Uttar Pradesh', state_capital='Agra', country_name='India', country_capital='New Delhi')"
      ]
     },
     "execution_count": 26,
     "metadata": {},
     "output_type": "execute_result"
    }
   ],
   "source": [
    "ans1"
   ]
  },
  {
   "cell_type": "code",
   "execution_count": 26,
   "metadata": {},
   "outputs": [
    {
     "name": "stdout",
     "output_type": "stream",
     "text": [
      " this is 01 input from call model {'messages': [HumanMessage(content='Tell me about the city details for gwalior?', additional_kwargs={}, response_metadata={}, id='5b8b7b85-b6a3-499f-b7ff-b16d5624656e')]}\n",
      "this is 02 response from call model  content='' additional_kwargs={'tool_calls': [{'id': 'call_tvky', 'function': {'arguments': '{\"prompt\":\"gwalior\"}', 'name': 'get_city_details'}, 'type': 'function'}]} response_metadata={'token_usage': {'completion_tokens': 86, 'prompt_tokens': 946, 'total_tokens': 1032, 'completion_time': 0.156363636, 'prompt_time': 0.038285097, 'queue_time': 0.002769992000000006, 'total_time': 0.194648733}, 'model_name': 'Gemma2-9b-It', 'system_fingerprint': 'fp_10c08bf97d', 'finish_reason': 'tool_calls', 'logprobs': None} id='run-38df1bbf-abb0-4638-8dcc-f8ace437176e-0' tool_calls=[{'name': 'get_city_details', 'args': {'prompt': 'gwalior'}, 'id': 'call_tvky', 'type': 'tool_call'}] usage_metadata={'input_tokens': 946, 'output_tokens': 86, 'total_tokens': 1032}\n",
      " this is 01 input from call model {'messages': [HumanMessage(content='Tell me about the city details for gwalior?', additional_kwargs={}, response_metadata={}, id='5b8b7b85-b6a3-499f-b7ff-b16d5624656e'), AIMessage(content='', additional_kwargs={'tool_calls': [{'id': 'call_tvky', 'function': {'arguments': '{\"prompt\":\"gwalior\"}', 'name': 'get_city_details'}, 'type': 'function'}]}, response_metadata={'token_usage': {'completion_tokens': 86, 'prompt_tokens': 946, 'total_tokens': 1032, 'completion_time': 0.156363636, 'prompt_time': 0.038285097, 'queue_time': 0.002769992000000006, 'total_time': 0.194648733}, 'model_name': 'Gemma2-9b-It', 'system_fingerprint': 'fp_10c08bf97d', 'finish_reason': 'tool_calls', 'logprobs': None}, id='run-38df1bbf-abb0-4638-8dcc-f8ace437176e-0', tool_calls=[{'name': 'get_city_details', 'args': {'prompt': 'gwalior'}, 'id': 'call_tvky', 'type': 'tool_call'}], usage_metadata={'input_tokens': 946, 'output_tokens': 86, 'total_tokens': 1032}), ToolMessage(content='[{\"url\": \"https://www.india.com/travel/gwalior/\", \"content\": \"Gwalior Tourism - Get Gwalior travel & tourism related information including tourist places, transport, nightlife, weather, photos, entertainment, shopping, festivals, maps, and attractions of\"}, {\"url\": \"https://www.holidify.com/places/gwalior/sightseeing-and-things-to-do.html\", \"content\": \"Explore the best tourist places in Gwalior, a historic city in Madhya Pradesh, India. Find out the top attractions, forts, palaces, temples, museums and more in Gwalior.\"}, {\"url\": \"https://www.britannica.com/place/Gwalior-India\", \"content\": \"Gwalior, city, northern Madhya Pradesh state, central India. It is situated about 75 miles (120 km) south of Agra. Gwalior is a cultural, industrial, and political centre and takes its name from the historic rock fortress that forms the centre of the city. It has been referred to as Gopa Parvat,\"}, {\"url\": \"https://www.mptourism.com/destination-gwalior.php\", \"content\": \"Gwalior is a significant railway station that is governed by the Jhansi Rail Division. By Road. The roads leading to Gwalior are very good in terms of connectivity. All of Madhya Pradesh\\'s major towns and the surrounding regions are connected to the location. Chanderi is located 239 kilometres, Lucknow and Bhopal are both only 423 kilometres\"}, {\"url\": \"https://en.wikipedia.org/wiki/List_of_tourist_attractions_in_Gwalior\", \"content\": \"Gwalior Fort also known as Gibraltar of India is an 5th-century hill fort in the City Gwalior.; View Of Chaturbhuj Temple. The Man Mandir Palace was built by the King of Tomar Dynasty - Man Singh Tomar in 15th century. Man Mandir is often referred as a Painted Palace because the painted effect of the Man Mandir Palace is due to the use of styled tiles of turquoise, green and yellow used\"}]', name='get_city_details', id='0a55a42d-bdb7-4887-afe5-3fca861ef4ff', tool_call_id='call_tvky')]}\n",
      "this is 02 response from call model  content='Gwalior is a historic city in Madhya Pradesh, India. It is known for its impressive rock fortress, Gwalior Fort, which dates back to the 5th century. \\n\\n\\nThe city is also home to several other notable attractions, including the Man Mandir Palace, the Jai Vilas Palace, and the Teli Temple. \\n' additional_kwargs={} response_metadata={'token_usage': {'completion_tokens': 73, 'prompt_tokens': 1484, 'total_tokens': 1557, 'completion_time': 0.132727273, 'prompt_time': 0.04764109, 'queue_time': 0.0024173390000000045, 'total_time': 0.180368363}, 'model_name': 'Gemma2-9b-It', 'system_fingerprint': 'fp_10c08bf97d', 'finish_reason': 'stop', 'logprobs': None} id='run-8eefb3c1-4f37-461d-b3f7-077f9510cfc0-0' usage_metadata={'input_tokens': 1484, 'output_tokens': 73, 'total_tokens': 1557}\n",
      "here is 03 state from respond {'messages': [HumanMessage(content='Tell me about the city details for gwalior?', additional_kwargs={}, response_metadata={}, id='5b8b7b85-b6a3-499f-b7ff-b16d5624656e'), AIMessage(content='', additional_kwargs={'tool_calls': [{'id': 'call_tvky', 'function': {'arguments': '{\"prompt\":\"gwalior\"}', 'name': 'get_city_details'}, 'type': 'function'}]}, response_metadata={'token_usage': {'completion_tokens': 86, 'prompt_tokens': 946, 'total_tokens': 1032, 'completion_time': 0.156363636, 'prompt_time': 0.038285097, 'queue_time': 0.002769992000000006, 'total_time': 0.194648733}, 'model_name': 'Gemma2-9b-It', 'system_fingerprint': 'fp_10c08bf97d', 'finish_reason': 'tool_calls', 'logprobs': None}, id='run-38df1bbf-abb0-4638-8dcc-f8ace437176e-0', tool_calls=[{'name': 'get_city_details', 'args': {'prompt': 'gwalior'}, 'id': 'call_tvky', 'type': 'tool_call'}], usage_metadata={'input_tokens': 946, 'output_tokens': 86, 'total_tokens': 1032}), ToolMessage(content='[{\"url\": \"https://www.india.com/travel/gwalior/\", \"content\": \"Gwalior Tourism - Get Gwalior travel & tourism related information including tourist places, transport, nightlife, weather, photos, entertainment, shopping, festivals, maps, and attractions of\"}, {\"url\": \"https://www.holidify.com/places/gwalior/sightseeing-and-things-to-do.html\", \"content\": \"Explore the best tourist places in Gwalior, a historic city in Madhya Pradesh, India. Find out the top attractions, forts, palaces, temples, museums and more in Gwalior.\"}, {\"url\": \"https://www.britannica.com/place/Gwalior-India\", \"content\": \"Gwalior, city, northern Madhya Pradesh state, central India. It is situated about 75 miles (120 km) south of Agra. Gwalior is a cultural, industrial, and political centre and takes its name from the historic rock fortress that forms the centre of the city. It has been referred to as Gopa Parvat,\"}, {\"url\": \"https://www.mptourism.com/destination-gwalior.php\", \"content\": \"Gwalior is a significant railway station that is governed by the Jhansi Rail Division. By Road. The roads leading to Gwalior are very good in terms of connectivity. All of Madhya Pradesh\\'s major towns and the surrounding regions are connected to the location. Chanderi is located 239 kilometres, Lucknow and Bhopal are both only 423 kilometres\"}, {\"url\": \"https://en.wikipedia.org/wiki/List_of_tourist_attractions_in_Gwalior\", \"content\": \"Gwalior Fort also known as Gibraltar of India is an 5th-century hill fort in the City Gwalior.; View Of Chaturbhuj Temple. The Man Mandir Palace was built by the King of Tomar Dynasty - Man Singh Tomar in 15th century. Man Mandir is often referred as a Painted Palace because the painted effect of the Man Mandir Palace is due to the use of styled tiles of turquoise, green and yellow used\"}]', name='get_city_details', id='0a55a42d-bdb7-4887-afe5-3fca861ef4ff', tool_call_id='call_tvky'), AIMessage(content='Gwalior is a historic city in Madhya Pradesh, India. It is known for its impressive rock fortress, Gwalior Fort, which dates back to the 5th century. \\n\\n\\nThe city is also home to several other notable attractions, including the Man Mandir Palace, the Jai Vilas Palace, and the Teli Temple. \\n', additional_kwargs={}, response_metadata={'token_usage': {'completion_tokens': 73, 'prompt_tokens': 1484, 'total_tokens': 1557, 'completion_time': 0.132727273, 'prompt_time': 0.04764109, 'queue_time': 0.0024173390000000045, 'total_time': 0.180368363}, 'model_name': 'Gemma2-9b-It', 'system_fingerprint': 'fp_10c08bf97d', 'finish_reason': 'stop', 'logprobs': None}, id='run-8eefb3c1-4f37-461d-b3f7-077f9510cfc0-0', usage_metadata={'input_tokens': 1484, 'output_tokens': 73, 'total_tokens': 1557})]}\n",
      "this is 04 response from respondstate_name='Madhya Pradesh' state_capital='Bhopal' country_name='India' country_capital='New Delhi'\n"
     ]
    }
   ],
   "source": [
    "answer = graph.invoke(input={\"messages\": [(\"human\", \"Tell me about the city details for gwalior?\")]})['final_response']\n"
   ]
  },
  {
   "cell_type": "code",
   "execution_count": 27,
   "metadata": {},
   "outputs": [
    {
     "data": {
      "text/plain": [
       "CityDetails(state_name='Madhya Pradesh', state_capital='Bhopal', country_name='India', country_capital='New Delhi')"
      ]
     },
     "execution_count": 27,
     "metadata": {},
     "output_type": "execute_result"
    }
   ],
   "source": [
    "answer"
   ]
  },
  {
   "cell_type": "code",
   "execution_count": null,
   "metadata": {},
   "outputs": [],
   "source": []
  }
 ],
 "metadata": {
  "kernelspec": {
   "display_name": "agents-env",
   "language": "python",
   "name": "python3"
  },
  "language_info": {
   "codemirror_mode": {
    "name": "ipython",
    "version": 3
   },
   "file_extension": ".py",
   "mimetype": "text/x-python",
   "name": "python",
   "nbconvert_exporter": "python",
   "pygments_lexer": "ipython3",
   "version": "3.11.9"
  }
 },
 "nbformat": 4,
 "nbformat_minor": 2
}
